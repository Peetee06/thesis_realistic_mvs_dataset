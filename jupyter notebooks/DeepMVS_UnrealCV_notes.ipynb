{
 "cells": [
  {
   "cell_type": "markdown",
   "metadata": {},
   "source": [
    "### DeepMVS\n",
    "\n",
    "    by Huang et al."
   ]
  },
  {
   "cell_type": "markdown",
   "metadata": {},
   "source": [
    "DCNN for mvs reconstruction\n",
    "\n",
    "arbitrary number of images\n",
    "\n",
    "produce set of plane-sweep volumes\n",
    "\n",
    "use deepmvs network to predict high-quality disparity maps\n",
    "\n",
    "### key contributions:\n",
    "1. supervised pretraining on photorealistic synthetic dataset\n",
    "2. effective method for aggregating information across set of unordered images\n",
    "3. integrating multi-layer feature activations from pre-trained VGG-19 network\n",
    "\n",
    "efficacy of DeepMVS validated using ETH3D benchmark. \n",
    "compares favorably against state-of-the-art conventional MVS algorithms and other ConvNet based methods"
   ]
  },
  {
   "cell_type": "markdown",
   "metadata": {},
   "source": [
    "MVS methods aim at reconstructing disparity maps from collection of images with known camera poses and calibration, possibly estimated using Structure from Motion (SFM) algorithms.\n"
   ]
  },
  {
   "cell_type": "code",
   "execution_count": null,
   "metadata": {},
   "outputs": [],
   "source": []
  },
  {
   "cell_type": "markdown",
   "metadata": {},
   "source": [
    "### UnrealCV\n",
    "    by Weichao Qiu, Alan Yuille\n",
    "    \n"
   ]
  },
  {
   "cell_type": "code",
   "execution_count": null,
   "metadata": {},
   "outputs": [],
   "source": []
  }
 ],
 "metadata": {
  "kernelspec": {
   "display_name": "Python 3",
   "language": "python",
   "name": "python3"
  },
  "language_info": {
   "codemirror_mode": {
    "name": "ipython",
    "version": 3
   },
   "file_extension": ".py",
   "mimetype": "text/x-python",
   "name": "python",
   "nbconvert_exporter": "python",
   "pygments_lexer": "ipython3",
   "version": "3.6.4"
  }
 },
 "nbformat": 4,
 "nbformat_minor": 2
}
