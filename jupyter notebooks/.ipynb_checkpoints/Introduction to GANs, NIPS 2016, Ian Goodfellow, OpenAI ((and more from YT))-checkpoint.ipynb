{
 "cells": [
  {
   "cell_type": "markdown",
   "metadata": {},
   "source": [
    "https://www.youtube.com/watch?v=9JpdAg6uMXs"
   ]
  },
  {
   "cell_type": "markdown",
   "metadata": {},
   "source": [
    "~@10\"10'\n",
    "### Minimax Game\n",
    "\n",
    "$J^{(D)} = - \\frac{1}{2}E_{x~p_{data}}\\log D(x) - \\frac{1}{2}E_z \\log (1 - D(G(z)))$  \n",
    "$J^{(G)} = - J^{(D)}$\n",
    "\n",
    "- Equilibrium is a saddle point of the discriminator loss\n",
    "- Jensen-Shannon divergence (kayle divergence?)\n",
    "- Generator minimizes the log-probability of the discriminator being correct"
   ]
  },
  {
   "cell_type": "markdown",
   "metadata": {},
   "source": [
    "connection between real and fake distribution"
   ]
  },
  {
   "cell_type": "markdown",
   "metadata": {},
   "source": [
    "### Non-Saturating Game\n",
    "\n",
    "$J^{(G)} = - \\frac{1}{2} E_z \\log D(G(z))$\n",
    "\n",
    "- Equilibrium no longer describable with a single loss\n",
    "- Generator maximizes the log-probability of the discriminator being mistaken\n",
    "- Heuristically motivated; generator can still learn even when discriminator successfully rejects all generator samples"
   ]
  },
  {
   "cell_type": "markdown",
   "metadata": {},
   "source": [
    "### Mode Collapse\n",
    "\n",
    "Look at @16:52 for convergence Problems with min max vs. max min"
   ]
  },
  {
   "cell_type": "markdown",
   "metadata": {},
   "source": [
    "Look at \"Plug and Play Generative Models\" (Nguyen et al 2016)"
   ]
  },
  {
   "cell_type": "markdown",
   "metadata": {},
   "source": [
    "https://www.youtube.com/watch?v=kSLJriaOumA"
   ]
  }
 ],
 "metadata": {
  "kernelspec": {
   "display_name": "Python 3",
   "language": "python",
   "name": "python3"
  },
  "language_info": {
   "codemirror_mode": {
    "name": "ipython",
    "version": 3
   },
   "file_extension": ".py",
   "mimetype": "text/x-python",
   "name": "python",
   "nbconvert_exporter": "python",
   "pygments_lexer": "ipython3",
   "version": "3.7.1"
  }
 },
 "nbformat": 4,
 "nbformat_minor": 2
}
